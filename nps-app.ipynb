{
 "cells": [
  {
   "cell_type": "code",
   "execution_count": 1,
   "id": "8f9cee59-0f32-4db1-b741-68b27d0fa683",
   "metadata": {},
   "outputs": [],
   "source": [
    "import numpy as np"
   ]
  },
  {
   "cell_type": "code",
   "execution_count": 3,
   "id": "85fabcd8-2469-4fd3-8c7b-491ef721c00d",
   "metadata": {},
   "outputs": [
    {
     "data": {
      "text/plain": [
       "array([ 7., 10.,  5., ...,  5.,  9., 10.])"
      ]
     },
     "execution_count": 3,
     "metadata": {},
     "output_type": "execute_result"
    }
   ],
   "source": [
    "data = np.loadtxt('survey.txt')\n",
    "data"
   ]
  },
  {
   "cell_type": "code",
   "execution_count": 4,
   "id": "5fc65ef6-f5a0-4c32-889a-bd26343b0891",
   "metadata": {},
   "outputs": [
    {
     "data": {
      "text/plain": [
       "array([ 7., 10.,  5.,  9.,  9.])"
      ]
     },
     "execution_count": 4,
     "metadata": {},
     "output_type": "execute_result"
    }
   ],
   "source": [
    "data[:5]"
   ]
  },
  {
   "cell_type": "code",
   "execution_count": 5,
   "id": "695d0562-5d1e-4c03-a77c-2a730b033974",
   "metadata": {},
   "outputs": [
    {
     "data": {
      "text/plain": [
       "array([ 1., 10.,  5.,  9., 10.])"
      ]
     },
     "execution_count": 5,
     "metadata": {},
     "output_type": "execute_result"
    }
   ],
   "source": [
    "data[-5:]"
   ]
  },
  {
   "cell_type": "code",
   "execution_count": 9,
   "id": "f14ace12-2a54-44f3-a80b-3771ddba8060",
   "metadata": {},
   "outputs": [],
   "source": [
    "promoters_data = data[data> 8]\n",
    "detractors_data = data[data< 7]"
   ]
  },
  {
   "cell_type": "code",
   "execution_count": 12,
   "id": "620d044f-e596-497a-9ff0-00801182f9c1",
   "metadata": {},
   "outputs": [
    {
     "name": "stdout",
     "output_type": "stream",
     "text": [
      "609\n",
      "332\n",
      "1167\n"
     ]
    }
   ],
   "source": [
    "print(len(promoters_data))\n",
    "print(len(detractors_data))\n",
    "print(len(data))"
   ]
  },
  {
   "cell_type": "code",
   "execution_count": 14,
   "id": "5bf28119-6aba-4aa6-a81c-2dfb62096a89",
   "metadata": {},
   "outputs": [],
   "source": [
    "promoters_percentage = (len(promoters_data)/ len(data)) * 100\n",
    "detractors_percentage = (len(detractors_data)/ len(data)) * 100"
   ]
  },
  {
   "cell_type": "code",
   "execution_count": 16,
   "id": "ac744396-bb4a-4ea9-a47b-fb0921717358",
   "metadata": {},
   "outputs": [
    {
     "name": "stdout",
     "output_type": "stream",
     "text": [
      "The nps score is 23.74\n"
     ]
    }
   ],
   "source": [
    "nps_score = promoters_percentage - detractors_percentage\n",
    "print(f'The nps score is {round(nps_score,2)}')"
   ]
  }
 ],
 "metadata": {
  "kernelspec": {
   "display_name": "Python 3 (ipykernel)",
   "language": "python",
   "name": "python3"
  },
  "language_info": {
   "codemirror_mode": {
    "name": "ipython",
    "version": 3
   },
   "file_extension": ".py",
   "mimetype": "text/x-python",
   "name": "python",
   "nbconvert_exporter": "python",
   "pygments_lexer": "ipython3",
   "version": "3.12.3"
  }
 },
 "nbformat": 4,
 "nbformat_minor": 5
}
